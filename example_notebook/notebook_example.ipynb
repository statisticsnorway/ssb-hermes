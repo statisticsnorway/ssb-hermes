{
 "cells": [
  {
   "cell_type": "code",
   "execution_count": null,
   "id": "34950912-618c-4ed3-ac5d-8adcef20275b",
   "metadata": {
    "tags": []
   },
   "outputs": [],
   "source": [
    "import pandas as pd\n",
    "\n",
    "from ssb_hermes.functions import find_match\n",
    "from ssb_hermes.functions import get_test_data"
   ]
  },
  {
   "cell_type": "code",
   "execution_count": null,
   "id": "8ae9bc05-1760-4822-b16d-55c43d09b44c",
   "metadata": {
    "tags": []
   },
   "outputs": [],
   "source": [
    "df_data,df_registry = get_test_data()\n",
    "\n",
    "items, cant_find_postnr, row_failed_no_adress, row_failed_adress_none = find_match(\n",
    "    df_data,\n",
    "    df_registry,\n",
    "    \"ident_gruppe\",\n",
    "    \"ident_adresse\",\n",
    "    \"ident_postnr\",\n",
    "    \"ident_kommunenr\",\n",
    "    \"ident_fylkenr\",\n",
    "    registry_type_columns=\"ident_type\",\n",
    "    find_postnr=True,\n",
    ")\n",
    "\n",
    "df = pd.DataFrame(items)\n",
    "\n",
    "df"
   ]
  }
 ],
 "metadata": {
  "language_info": {
   "codemirror_mode": {
    "name": "ipython"
   },
   "file_extension": ".py",
   "mimetype": "text/x-python",
   "name": "python",
   "nbconvert_exporter": "python"
  }
 },
 "nbformat": 4,
 "nbformat_minor": 5
}
