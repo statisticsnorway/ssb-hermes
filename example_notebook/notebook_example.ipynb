{
 "cells": [
  {
   "cell_type": "code",
   "execution_count": null,
   "id": "34950912-618c-4ed3-ac5d-8adcef20275b",
   "metadata": {
    "tags": []
   },
   "outputs": [],
   "source": [
    "import pandas as pd\n",
    "\n",
    "from ssb_hermes.functions import find_match\n",
    "from ssb_hermes.functions import get_test_data"
   ]
  },
  {
   "cell_type": "code",
   "execution_count": null,
   "id": "c17476a1-bad8-4e21-b9fe-9ba709cbeb36",
   "metadata": {
    "tags": []
   },
   "outputs": [],
   "source": [
    "df_data, df_registry = get_test_data()\n",
    "df_data"
   ]
  },
  {
   "cell_type": "code",
   "execution_count": null,
   "id": "a07bd2aa-de4a-46cc-a028-bd1a44c49537",
   "metadata": {},
   "outputs": [],
   "source": [
    "df_registry.at[15, \"ident_postnr\"] = \"0388\"\n",
    "df_registry"
   ]
  },
  {
   "cell_type": "code",
   "execution_count": null,
   "id": "f89ebfb5-3dee-4a71-a876-9fd16de2a431",
   "metadata": {
    "tags": []
   },
   "outputs": [],
   "source": [
    "items, cant_find_postnr, row_failed_no_adress = find_match(\n",
    "    df_data,\n",
    "    df_registry,\n",
    "    \"ident_gruppe\",\n",
    "    \"ident_adresse\",\n",
    "    \"ident_postnr\",\n",
    "    \"ident_kommunenr\",\n",
    "    \"ident_fylkenr\",\n",
    "    registry_type_columns=\"ident_type\",\n",
    "    find_postnr=True,\n",
    ")\n",
    "\n",
    "df = pd.DataFrame(items)\n",
    "\n",
    "df"
   ]
  }
 ],
 "metadata": {
  "language_info": {
   "codemirror_mode": {
    "name": "ipython"
   },
   "file_extension": ".py",
   "mimetype": "text/x-python",
   "name": "python",
   "nbconvert_exporter": "python"
  }
 },
 "nbformat": 4,
 "nbformat_minor": 5
}
